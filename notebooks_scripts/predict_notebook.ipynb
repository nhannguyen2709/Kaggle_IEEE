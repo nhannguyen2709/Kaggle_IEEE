{
 "cells": [
  {
   "cell_type": "code",
   "execution_count": 52,
   "metadata": {},
   "outputs": [],
   "source": [
    "import tensorflow as tf\n",
    "import keras.backend as K\n",
    "import numpy as np\n",
    "import pandas as pd\n",
    "\n",
    "from keras.optimizers import SGD, RMSprop, Adam\n",
    "from keras.utils import multi_gpu_model\n",
    "from keras.preprocessing.image import ImageDataGenerator\n",
    "from utils import load_pretrained_weights"
   ]
  },
  {
   "cell_type": "code",
   "execution_count": 53,
   "metadata": {},
   "outputs": [],
   "source": [
    "K.clear_session()\n",
    "config = tf.ConfigProto()\n",
    "config.gpu_options.allow_growth = True\n",
    "session = tf.Session(config=config)\n",
    "K.set_session(session)"
   ]
  },
  {
   "cell_type": "code",
   "execution_count": 54,
   "metadata": {},
   "outputs": [],
   "source": [
    "processed_imgs_dir = \"/mnt/safe01/data/processed/\"\n",
    "train_dir = \"/mnt/safe01/data/train/\"\n",
    "validation_dir = \"/mnt/safe01/data/validation/\"\n",
    "test_dir = \"/mnt/safe01/data/test/\"\n",
    "weights_path = \"/home/nhannguyen/Kaggle_IEEE/model_weights/inception_resnet_v2/\""
   ]
  },
  {
   "cell_type": "code",
   "execution_count": 78,
   "metadata": {},
   "outputs": [
    {
     "name": "stdout",
     "output_type": "stream",
     "text": [
      "Found 22320 images belonging to 10 classes.\n"
     ]
    }
   ],
   "source": [
    "train_datagen = ImageDataGenerator(rescale=1. / 255,\n",
    "                                   width_shift_range=0.2,\n",
    "                                   height_shift_range=0.2,\n",
    "                                   horizontal_flip=True,\n",
    "                                   vertical_flip=True)\n",
    "train_generator = train_datagen.flow_from_directory(train_dir, \n",
    "                                                    batch_size=36,\n",
    "                                                    target_size=(299, 299))"
   ]
  },
  {
   "cell_type": "code",
   "execution_count": 5,
   "metadata": {},
   "outputs": [],
   "source": [
    "inceptionresnetv2 = load_pretrained_weights('InceptionResNetV2', input_shape=(512, 512, 3))"
   ]
  },
  {
   "cell_type": "code",
   "execution_count": 6,
   "metadata": {},
   "outputs": [],
   "source": [
    "inceptionresnetv2.load_weights(weights_path +'multigpu.hdf5')"
   ]
  },
  {
   "cell_type": "code",
   "execution_count": 7,
   "metadata": {
    "scrolled": false
   },
   "outputs": [],
   "source": [
    "parallel_model = multi_gpu_model(model=inceptionresnetv2, gpus=4)"
   ]
  },
  {
   "cell_type": "code",
   "execution_count": null,
   "metadata": {},
   "outputs": [],
   "source": [
    "def predict_image_generator(path, model, batch_size, num_test_samples, class_indices):\n",
    "    test_datagen = ImageDataGenerator(rescale=1. / 255)\n",
    "    test_generator = test_datagen.flow_from_directory(path,\n",
    "                                                      batch_size=batch_size,\n",
    "                                                      target_size=(512, 512),\n",
    "                                                      shuffle=False)\n",
    "    y_pred = model.predict_generator(test_generator, steps=num_test_samples / batch_size,\n",
    "                                     verbose=1)\n",
    "    indices_pred = np.argmax(y_pred, axis=1)\n",
    "    indices_class = {v: k for k, v in class_indices.items()}\n",
    "    class_pred = np.vectorize(indices_class.get)(indices_pred)\n",
    "    return class_pred\n",
    "\n",
    "class_pred = predict_image_generator(path=test_dir, model=parallel_model,\n",
    "                                     batch_size=40, num_test_samples=2640,\n",
    "                                     class_indices=train_generator.class_indices)"
   ]
  },
  {
   "cell_type": "code",
   "execution_count": null,
   "metadata": {},
   "outputs": [],
   "source": [
    "def make_submission(input_path, output_path, camera_prediction):\n",
    "    \"\"\"\n",
    "    Concatenate the test images names with their associated camera prediction in a single\n",
    "    DataFrame.\n",
    "    \"\"\"\n",
    "    import os\n",
    "    all_test_img_names = sorted(os.listdir(input_path))\n",
    "    all_test_img_renamed = pd.Series([fname.replace('.jpg', '.tif') for \n",
    "                                      fname in all_test_img_names])\n",
    "    camera = pd.Series(camera_prediction)\n",
    "    df = pd.concat([all_test_img_renamed, camera], axis=1)\n",
    "    df.columns = [\"fname\", \"camera\"]\n",
    "    df.to_csv(output_path, index=False)\n",
    "    return df\n",
    "\n",
    "make_submission(input_path=test_dir+'/test',\n",
    "                output_path=\"/home/nhannguyen/Kaggle_IEEE/submission.csv\",\n",
    "                camera_prediction=class_pred).head()"
   ]
  }
 ],
 "metadata": {
  "kernelspec": {
   "display_name": "Python 3",
   "language": "python",
   "name": "python3"
  },
  "language_info": {
   "codemirror_mode": {
    "name": "ipython",
    "version": 3
   },
   "file_extension": ".py",
   "mimetype": "text/x-python",
   "name": "python",
   "nbconvert_exporter": "python",
   "pygments_lexer": "ipython3",
   "version": "3.5.2"
  }
 },
 "nbformat": 4,
 "nbformat_minor": 2
}
